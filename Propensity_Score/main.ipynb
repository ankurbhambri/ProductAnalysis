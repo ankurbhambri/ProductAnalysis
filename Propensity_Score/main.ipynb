{
 "cells": [
  {
   "cell_type": "code",
   "execution_count": 29,
   "metadata": {},
   "outputs": [],
   "source": [
    "import pandas as pd\n",
    "import numpy as np\n",
    "from sklearn.linear_model import LogisticRegression\n",
    "from sklearn.preprocessing import StandardScaler\n",
    "from sklearn.neighbors import NearestNeighbors\n",
    "import statsmodels.api as sm"
   ]
  },
  {
   "cell_type": "code",
   "execution_count": 35,
   "metadata": {},
   "outputs": [
    {
     "name": "stdout",
     "output_type": "stream",
     "text": [
      "100\n"
     ]
    },
    {
     "data": {
      "text/html": [
       "<div>\n",
       "<style scoped>\n",
       "    .dataframe tbody tr th:only-of-type {\n",
       "        vertical-align: middle;\n",
       "    }\n",
       "\n",
       "    .dataframe tbody tr th {\n",
       "        vertical-align: top;\n",
       "    }\n",
       "\n",
       "    .dataframe thead th {\n",
       "        text-align: right;\n",
       "    }\n",
       "</style>\n",
       "<table border=\"1\" class=\"dataframe\">\n",
       "  <thead>\n",
       "    <tr style=\"text-align: right;\">\n",
       "      <th></th>\n",
       "      <th>treatment</th>\n",
       "      <th>covariate1</th>\n",
       "      <th>covariate2</th>\n",
       "      <th>covariate3</th>\n",
       "    </tr>\n",
       "  </thead>\n",
       "  <tbody>\n",
       "    <tr>\n",
       "      <th>0</th>\n",
       "      <td>1</td>\n",
       "      <td>2.231389</td>\n",
       "      <td>0.673910</td>\n",
       "      <td>0.356429</td>\n",
       "    </tr>\n",
       "    <tr>\n",
       "      <th>1</th>\n",
       "      <td>1</td>\n",
       "      <td>-0.622559</td>\n",
       "      <td>1.848955</td>\n",
       "      <td>-1.404115</td>\n",
       "    </tr>\n",
       "    <tr>\n",
       "      <th>2</th>\n",
       "      <td>1</td>\n",
       "      <td>-0.550561</td>\n",
       "      <td>-0.485006</td>\n",
       "      <td>-0.311894</td>\n",
       "    </tr>\n",
       "    <tr>\n",
       "      <th>3</th>\n",
       "      <td>0</td>\n",
       "      <td>-0.919940</td>\n",
       "      <td>1.576381</td>\n",
       "      <td>0.607841</td>\n",
       "    </tr>\n",
       "    <tr>\n",
       "      <th>4</th>\n",
       "      <td>0</td>\n",
       "      <td>-0.786653</td>\n",
       "      <td>-0.179736</td>\n",
       "      <td>-1.458520</td>\n",
       "    </tr>\n",
       "  </tbody>\n",
       "</table>\n",
       "</div>"
      ],
      "text/plain": [
       "   treatment  covariate1  covariate2  covariate3\n",
       "0          1    2.231389    0.673910    0.356429\n",
       "1          1   -0.622559    1.848955   -1.404115\n",
       "2          1   -0.550561   -0.485006   -0.311894\n",
       "3          0   -0.919940    1.576381    0.607841\n",
       "4          0   -0.786653   -0.179736   -1.458520"
      ]
     },
     "execution_count": 35,
     "metadata": {},
     "output_type": "execute_result"
    }
   ],
   "source": [
    "# Example data\n",
    "data = pd.DataFrame({\n",
    "    'treatment': np.random.binomial(1, 0.5, 100),  # Binary treatment variable\n",
    "    'covariate1': np.random.normal(0, 1, 100),\n",
    "    'covariate2': np.random.normal(0, 1, 100),\n",
    "    'covariate3': np.random.normal(0, 1, 100),\n",
    "})\n",
    "print(len(data))\n",
    "data.head()"
   ]
  },
  {
   "cell_type": "code",
   "execution_count": 31,
   "metadata": {},
   "outputs": [
    {
     "data": {
      "text/html": [
       "<div>\n",
       "<style scoped>\n",
       "    .dataframe tbody tr th:only-of-type {\n",
       "        vertical-align: middle;\n",
       "    }\n",
       "\n",
       "    .dataframe tbody tr th {\n",
       "        vertical-align: top;\n",
       "    }\n",
       "\n",
       "    .dataframe thead th {\n",
       "        text-align: right;\n",
       "    }\n",
       "</style>\n",
       "<table border=\"1\" class=\"dataframe\">\n",
       "  <thead>\n",
       "    <tr style=\"text-align: right;\">\n",
       "      <th></th>\n",
       "      <th>treatment</th>\n",
       "      <th>covariate1</th>\n",
       "      <th>covariate2</th>\n",
       "      <th>covariate3</th>\n",
       "      <th>propensity_score</th>\n",
       "    </tr>\n",
       "  </thead>\n",
       "  <tbody>\n",
       "    <tr>\n",
       "      <th>0</th>\n",
       "      <td>0</td>\n",
       "      <td>0.351125</td>\n",
       "      <td>0.288528</td>\n",
       "      <td>-1.498305</td>\n",
       "      <td>0.568593</td>\n",
       "    </tr>\n",
       "    <tr>\n",
       "      <th>1</th>\n",
       "      <td>0</td>\n",
       "      <td>0.705708</td>\n",
       "      <td>-0.582951</td>\n",
       "      <td>-0.147879</td>\n",
       "      <td>0.466828</td>\n",
       "    </tr>\n",
       "    <tr>\n",
       "      <th>2</th>\n",
       "      <td>0</td>\n",
       "      <td>0.434737</td>\n",
       "      <td>-0.482779</td>\n",
       "      <td>0.181447</td>\n",
       "      <td>0.469472</td>\n",
       "    </tr>\n",
       "    <tr>\n",
       "      <th>3</th>\n",
       "      <td>1</td>\n",
       "      <td>0.368686</td>\n",
       "      <td>-0.409970</td>\n",
       "      <td>-1.648368</td>\n",
       "      <td>0.559636</td>\n",
       "    </tr>\n",
       "    <tr>\n",
       "      <th>4</th>\n",
       "      <td>1</td>\n",
       "      <td>0.245578</td>\n",
       "      <td>-0.236048</td>\n",
       "      <td>0.010052</td>\n",
       "      <td>0.493754</td>\n",
       "    </tr>\n",
       "  </tbody>\n",
       "</table>\n",
       "</div>"
      ],
      "text/plain": [
       "   treatment  covariate1  covariate2  covariate3  propensity_score\n",
       "0          0    0.351125    0.288528   -1.498305          0.568593\n",
       "1          0    0.705708   -0.582951   -0.147879          0.466828\n",
       "2          0    0.434737   -0.482779    0.181447          0.469472\n",
       "3          1    0.368686   -0.409970   -1.648368          0.559636\n",
       "4          1    0.245578   -0.236048    0.010052          0.493754"
      ]
     },
     "execution_count": 31,
     "metadata": {},
     "output_type": "execute_result"
    }
   ],
   "source": [
    "# Covariates\n",
    "covariates = ['covariate1', 'covariate2', 'covariate3']\n",
    "\n",
    "# Logistic regression\n",
    "log_reg = LogisticRegression()\n",
    "log_reg.fit(data[covariates], data['treatment'])\n",
    "\n",
    "# Predict propensity scores\n",
    "data['propensity_score'] = log_reg.predict_proba(data[covariates])[:, 1]\n",
    "\n",
    "data.head()\n"
   ]
  },
  {
   "cell_type": "code",
   "execution_count": 32,
   "metadata": {},
   "outputs": [],
   "source": [
    "# Separate treated and control units\n",
    "treated = data[data['treatment'] == 1]\n",
    "control = data[data['treatment'] == 0]\n",
    "\n",
    "# Initialize NearestNeighbors\n",
    "nn = NearestNeighbors(n_neighbors=1)\n",
    "\n",
    "# Fit on control propensity scores\n",
    "nn.fit(control[['propensity_score']])\n",
    "\n",
    "# Find nearest neighbors for treated units\n",
    "distances, indices = nn.kneighbors(treated[['propensity_score']])\n",
    "\n",
    "# Get matched control units and include the outcome column\n",
    "matched_controls = control.iloc[indices.flatten()].copy()\n",
    "matched_controls.index = treated.index  # Ensure indices match for concatenation\n",
    "\n",
    "# Combine treated and matched control units\n",
    "matched_data = pd.concat([treated, matched_controls], ignore_index=True)\n"
   ]
  },
  {
   "cell_type": "code",
   "execution_count": 33,
   "metadata": {},
   "outputs": [
    {
     "name": "stdout",
     "output_type": "stream",
     "text": [
      "Before Matching\n",
      "            Treated Mean  Control Mean  Standardized Difference\n",
      "covariate1     -0.258578     -0.017865                -0.237590\n",
      "covariate2     -0.156881     -0.252390                 0.081960\n",
      "covariate3     -0.157828      0.047887                -0.193056\n",
      "After Matching\n",
      "            Treated Mean  Control Mean  Standardized Difference\n",
      "covariate1     -0.258578     -0.448484                 0.184642\n",
      "covariate2     -0.156881     -0.552626                 0.362191\n",
      "covariate3     -0.157828     -0.034620                -0.125869\n"
     ]
    }
   ],
   "source": [
    "def balance_table(data, covariates):\n",
    "    balance = pd.DataFrame(index=covariates)\n",
    "    for cov in covariates:\n",
    "        mean_treated = data[data['treatment'] == 1][cov].mean()\n",
    "        mean_control = data[data['treatment'] == 0][cov].mean()\n",
    "        balance.loc[cov, 'Treated Mean'] = mean_treated\n",
    "        balance.loc[cov, 'Control Mean'] = mean_control\n",
    "        balance.loc[cov, 'Standardized Difference'] = (mean_treated - mean_control) / data[cov].std()\n",
    "    return balance\n",
    "\n",
    "# Before matching\n",
    "print(\"Before Matching\")\n",
    "print(balance_table(data, covariates))\n",
    "\n",
    "# After matching\n",
    "print(\"After Matching\")\n",
    "print(balance_table(matched_data, covariates))\n"
   ]
  },
  {
   "cell_type": "code",
   "execution_count": 34,
   "metadata": {},
   "outputs": [
    {
     "name": "stdout",
     "output_type": "stream",
     "text": [
      "The 'outcome' column does not exist in the 'matched_data' dataframe.\n"
     ]
    }
   ],
   "source": [
    "data['outcome'] = data['treatment'] + 0.5 * data['covariate1'] + np.random.normal(0, 1, 100)\n",
    "\n",
    "# Check if 'outcome' column exists in 'matched_data' dataframe\n",
    "if 'outcome' in matched_data.columns:\n",
    "    # Outcome of matched data\n",
    "    outcome_treated = matched_data[matched_data['treatment'] == 1]['outcome']\n",
    "    outcome_control = matched_data[matched_data['treatment'] == 0]['outcome']\n",
    "\n",
    "    # Average treatment effect on the treated (ATT)\n",
    "    ATT = outcome_treated.mean() - outcome_control.mean()\n",
    "    print(f\"Average Treatment Effect on the Treated (ATT): {ATT}\")\n",
    "else:\n",
    "    print(\"The 'outcome' column does not exist in the 'matched_data' dataframe.\")\n"
   ]
  }
 ],
 "metadata": {
  "kernelspec": {
   "display_name": "env",
   "language": "python",
   "name": "python3"
  },
  "language_info": {
   "codemirror_mode": {
    "name": "ipython",
    "version": 3
   },
   "file_extension": ".py",
   "mimetype": "text/x-python",
   "name": "python",
   "nbconvert_exporter": "python",
   "pygments_lexer": "ipython3",
   "version": "3.11.9"
  }
 },
 "nbformat": 4,
 "nbformat_minor": 2
}
